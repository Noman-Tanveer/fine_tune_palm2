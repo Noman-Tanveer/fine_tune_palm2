{
 "cells": [
  {
   "cell_type": "code",
   "execution_count": 17,
   "id": "76cb7e24-b365-4efc-966f-e7f13aae488b",
   "metadata": {},
   "outputs": [],
   "source": [
    "import os\n",
    "import glob\n",
    "\n",
    "import numpy as np\n",
    "import pandas as pd\n",
    "\n",
    "import torch\n",
    "from google.cloud import storage"
   ]
  },
  {
   "cell_type": "code",
   "execution_count": 49,
   "id": "e97b4b1b-af8d-4fd5-a180-4142485ec682",
   "metadata": {},
   "outputs": [
    {
     "name": "stdout",
     "output_type": "stream",
     "text": [
      "         Date      Open      High       Low     Close  Adj Close    Volume\n",
      "0  1981-01-02  0.154018  0.155134  0.154018  0.154018   0.119501  21660800\n",
      "1  1981-01-05  0.151228  0.151228  0.150670  0.150670   0.116903  35728000\n",
      "2  1981-01-06  0.144531  0.144531  0.143973  0.143973   0.111707  45158400\n",
      "3  1981-01-07  0.138393  0.138393  0.137835  0.137835   0.106945  55686400\n",
      "4  1981-01-08  0.135603  0.135603  0.135045  0.135045   0.104780  39827200\n"
     ]
    }
   ],
   "source": [
    "df = pd.read_csv(\"AAPL.csv\")\n",
    "print(df.head())"
   ]
  },
  {
   "cell_type": "code",
   "execution_count": 39,
   "id": "d5bd1fcb-1a7d-455f-91af-55d0c8ee84b1",
   "metadata": {},
   "outputs": [
    {
     "name": "stdout",
     "output_type": "stream",
     "text": [
      "Reading package lists... Done\n",
      "Building dependency tree... Done\n",
      "Reading state information... Done\n",
      "The following additional packages will be installed:\n",
      "  liblzo2-2\n",
      "The following NEW packages will be installed:\n",
      "  liblzo2-2 lzip lzop\n",
      "0 upgraded, 3 newly installed, 0 to remove and 16 not upgraded.\n",
      "Need to get 230 kB of archives.\n",
      "After this operation, 522 kB of additional disk space will be used.\n",
      "Get:1 https://deb.debian.org/debian bullseye/main amd64 liblzo2-2 amd64 2.10-2 [56.9 kB]\n",
      "Get:2 https://deb.debian.org/debian bullseye/main amd64 lzip amd64 1.22-3 [88.5 kB]\n",
      "Get:3 https://deb.debian.org/debian bullseye/main amd64 lzop amd64 1.04-2 [84.2 kB]\n",
      "Fetched 230 kB in 0s (2310 kB/s)\n",
      "Selecting previously unselected package liblzo2-2:amd64.\n",
      "(Reading database ... 128858 files and directories currently installed.)\n",
      "Preparing to unpack .../liblzo2-2_2.10-2_amd64.deb ...\n",
      "Unpacking liblzo2-2:amd64 (2.10-2) ...\n",
      "Selecting previously unselected package lzip.\n",
      "Preparing to unpack .../archives/lzip_1.22-3_amd64.deb ...\n",
      "Unpacking lzip (1.22-3) ...\n",
      "Selecting previously unselected package lzop.\n",
      "Preparing to unpack .../archives/lzop_1.04-2_amd64.deb ...\n",
      "Unpacking lzop (1.04-2) ...\n",
      "Setting up liblzo2-2:amd64 (2.10-2) ...\n",
      "Setting up lzip (1.22-3) ...\n",
      "Setting up lzop (1.04-2) ...\n",
      "Processing triggers for libc-bin (2.31-13+deb11u6) ...\n",
      "ldconfig: /usr/local/cuda-11.3/targets/x86_64-linux/lib/libcudnn_cnn_infer.so.8 is not a symbolic link\n",
      "\n",
      "ldconfig: /usr/local/cuda-11.3/targets/x86_64-linux/lib/libcudnn_ops_infer.so.8 is not a symbolic link\n",
      "\n",
      "ldconfig: /usr/local/cuda-11.3/targets/x86_64-linux/lib/libcudnn_cnn_train.so.8 is not a symbolic link\n",
      "\n",
      "ldconfig: /usr/local/cuda-11.3/targets/x86_64-linux/lib/libcudnn_ops_train.so.8 is not a symbolic link\n",
      "\n",
      "ldconfig: /usr/local/cuda-11.3/targets/x86_64-linux/lib/libcudnn_adv_train.so.8 is not a symbolic link\n",
      "\n",
      "ldconfig: /usr/local/cuda-11.3/targets/x86_64-linux/lib/libcudnn.so.8 is not a symbolic link\n",
      "\n",
      "ldconfig: /usr/local/cuda-11.3/targets/x86_64-linux/lib/libcudnn_adv_infer.so.8 is not a symbolic link\n",
      "\n",
      "ldconfig: /lib/libnvonnxparser.so.8 is not a symbolic link\n",
      "\n",
      "ldconfig: /lib/libnvinfer_plugin.so.8 is not a symbolic link\n",
      "\n",
      "ldconfig: /lib/libnvparsers.so.8 is not a symbolic link\n",
      "\n",
      "ldconfig: /lib/libnvinfer.so.8 is not a symbolic link\n",
      "\n",
      "Processing triggers for man-db (2.9.4-2) ...\n",
      "Processing triggers for install-info (6.7.0.dfsg.2-6) ...\n"
     ]
    }
   ],
   "source": [
    "!sudo apt-get install lzip lzop -y"
   ]
  },
  {
   "cell_type": "code",
   "execution_count": 40,
   "id": "d3801644-4691-4317-895f-56a777d4f140",
   "metadata": {},
   "outputs": [],
   "source": [
    "!lzip -d data/bmdebt.sas7bdat.lz"
   ]
  },
  {
   "cell_type": "code",
   "execution_count": 44,
   "id": "242b09ed-0c22-4ab9-b4dc-0a5b7a994899",
   "metadata": {},
   "outputs": [
    {
     "name": "stdout",
     "output_type": "stream",
     "text": [
      "lzop: data/bmdebt.sas7bdat: not a lzop file\n"
     ]
    }
   ],
   "source": [
    "!lzop -d data/bmdebt.sas7bdat"
   ]
  },
  {
   "cell_type": "code",
   "execution_count": 45,
   "id": "b38dc40b-0e29-4bfa-8be4-6e3c1fd3b536",
   "metadata": {},
   "outputs": [
    {
     "name": "stdout",
     "output_type": "stream",
     "text": [
      "               crspid      qdate  totout  pubout\n",
      "0  b'19610706.400000' 1961-06-30  1600.0   -99.0\n",
      "1  b'19610713.400000' 1961-06-30  1600.0   -99.0\n",
      "2  b'19610715.400000' 1961-06-30  1500.0   -99.0\n",
      "3  b'19610720.400000' 1961-06-30  1600.0   -99.0\n",
      "4  b'19610727.400000' 1961-06-30  1600.0   -99.0\n"
     ]
    }
   ],
   "source": [
    "df = pd.read_sas('data/bmdebt.sas7bdat')\n",
    "\n",
    "# View the data\n",
    "print(df.head())  # Print the first few rows"
   ]
  },
  {
   "cell_type": "code",
   "execution_count": 31,
   "id": "d21f6a56-25c2-4d36-9a3d-f6a761b01924",
   "metadata": {},
   "outputs": [
    {
     "name": "stdout",
     "output_type": "stream",
     "text": [
      "tar (child): lzip: Cannot exec: No such file or directory\n",
      "tar (child): Error is not recoverable: exiting now\n",
      "tar: Child returned status 2\n",
      "tar: Error is not recoverable: exiting now\n"
     ]
    }
   ],
   "source": [
    "!tar --lzip -tf data/asic.sas7bdat.lz"
   ]
  },
  {
   "cell_type": "code",
   "execution_count": null,
   "id": "d832fdf2-16dc-4278-9d3b-7000739a0067",
   "metadata": {},
   "outputs": [],
   "source": []
  }
 ],
 "metadata": {
  "environment": {
   "kernel": "python3",
   "name": "pytorch-gpu.1-13.m109",
   "type": "gcloud",
   "uri": "gcr.io/deeplearning-platform-release/pytorch-gpu.1-13:m109"
  },
  "kernelspec": {
   "display_name": "Python 3",
   "language": "python",
   "name": "python3"
  },
  "language_info": {
   "codemirror_mode": {
    "name": "ipython",
    "version": 3
   },
   "file_extension": ".py",
   "mimetype": "text/x-python",
   "name": "python",
   "nbconvert_exporter": "python",
   "pygments_lexer": "ipython3",
   "version": "3.10.11"
  },
  "toc-autonumbering": false,
  "toc-showcode": true,
  "toc-showtags": false
 },
 "nbformat": 4,
 "nbformat_minor": 5
}
